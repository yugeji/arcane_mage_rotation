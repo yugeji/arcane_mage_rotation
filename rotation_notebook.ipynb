{
 "cells": [
  {
   "cell_type": "markdown",
   "id": "modern-option",
   "metadata": {},
   "source": [
    "Written for DragonFlight."
   ]
  },
  {
   "cell_type": "code",
   "execution_count": 1,
   "id": "discrete-resolution",
   "metadata": {},
   "outputs": [],
   "source": [
    "import numpy as np"
   ]
  },
  {
   "cell_type": "code",
   "execution_count": 3,
   "id": "precious-shark",
   "metadata": {},
   "outputs": [],
   "source": [
    "# buff dict\n",
    "buff_dict = {\n",
    "    'rune': 1.4,\n",
    "    'surge': 1.8,\n",
    "    'touch': 1.2\n",
    "}"
   ]
  },
  {
   "cell_type": "code",
   "execution_count": 83,
   "id": "floral-spring",
   "metadata": {},
   "outputs": [],
   "source": [
    "# base powers for spells, in thousands\n",
    "AB = 5.3  # check\n",
    "AS = 54.5/buff_dict['surge']\n",
    "AE = 6.2\n",
    "missile = 3.15\n",
    "arcane_echo = .7\n",
    "barrage = 6\n",
    "orb = 10.9\n",
    "rs_dmg = 13\n",
    "\n",
    "# tunable parameters\n",
    "GCD = .9\n",
    "nether_precision = True\n",
    "tier_set = True\n",
    "clearcast = True"
   ]
  },
  {
   "cell_type": "code",
   "execution_count": 4,
   "id": "korean-think",
   "metadata": {},
   "outputs": [],
   "source": [
    "# external conditions\n",
    "n_targets = 0  # num secondary targets"
   ]
  },
  {
   "cell_type": "markdown",
   "id": "colored-controversy",
   "metadata": {},
   "source": [
    "Recall tier set, which is not implemented:\n",
    "\n",
    "2-Set -  Mage Arcane Class Set 2pc - For each  Arcane Charge,  Arcane Blast critical strike chance is increased by 5% and  Arcane Explosion critical strike chance is increased by 3%.\n",
    "\n",
    "4-Set -  Mage Arcane Class Set 4pc - When  Arcane Blast critically strikes at least one target, the critical strike chance of your next  Arcane Barrage is increased by 10%, stacking up to 4 times."
   ]
  },
  {
   "cell_type": "markdown",
   "id": "under-assurance",
   "metadata": {},
   "source": [
    "Assumptions made in calculations:\n",
    "\n",
    "- Nether Precision does not time out before usage\n",
    "- Clearcasting is either always on or off\n",
    "- You're not going to cast missiles when RS is up\n",
    "- Arcane Echo only does primary target damage bc idk how much it does\n",
    "- You took ST-cleave target build: B4DAAAAAAAAAAAAAAAAAAAAAAAAAAAAAASIhWCSLJAAAAAAAAAAAAJJJJhkkkA\n",
    "\n",
    "Note that Arcane Harmony starts at 20 stacks and Arcane Charges start at maximum.\n",
    "\n",
    "Note that to simulate casting Touch of the Magi while Arcane Barrage is mid-air, you must write 'touch,barrage' instead of 'barrage,touch'."
   ]
  },
  {
   "cell_type": "code",
   "execution_count": 84,
   "id": "identical-encoding",
   "metadata": {},
   "outputs": [],
   "source": [
    "def run_rotation(rotation_seq, verbose=False, verbose_lite=True):\n",
    "    current_time = 0\n",
    "    current_dmg = 0\n",
    "\n",
    "    state_dict = {\n",
    "        'RS':0,\n",
    "        'nether_precision': 0,\n",
    "        'harmony': 20,\n",
    "        'charges': 4\n",
    "    }\n",
    "    time_dict = {\n",
    "        'touch': 0\n",
    "    }\n",
    "    \n",
    "    previous_spell = None\n",
    "    for spell in rotation_seq.split(','):\n",
    "        d = 0\n",
    "        t = 0\n",
    "        if spell == 'AB':\n",
    "            if state_dict['nether_precision'] > 0:\n",
    "                d = AB*1.2\n",
    "                state_dict['nether_precision'] -= 1\n",
    "            else:\n",
    "                d = AB\n",
    "            d *= 1 + state_dict['charges']*.7\n",
    "            state_dict['charges'] += 1\n",
    "            t = 1.4\n",
    "        elif spell == 'AE':\n",
    "            d = AE + AE*n_targets  # TODO: implement scaling\n",
    "            t = GCD\n",
    "        elif spell == 'AS':\n",
    "            d = AS + (AS*min(n_targets, 5))\n",
    "            t = 2.2\n",
    "            time_dict['surge'] = 15 + t\n",
    "            time_dict['rune'] = 15 + t\n",
    "        elif spell == 'barrage':\n",
    "            d = barrage\n",
    "            d *= 1 + state_dict['charges']*.35\n",
    "            d *= 1 + state_dict['harmony']*.05\n",
    "            d *= 1 + .15*n_targets\n",
    "            d += d*.4*n_targets  # non-primary dmg\n",
    "            state_dict['charges'] = 0\n",
    "            state_dict['harmony'] = 0\n",
    "            t = GCD\n",
    "        elif spell == 'M':\n",
    "            if clearcast:\n",
    "                n = 8\n",
    "                state_dict['nether_precision'] = 2\n",
    "            else:\n",
    "                n = 5\n",
    "            d = missile*n\n",
    "            state_dict['harmony'] += n\n",
    "            if time_dict['touch'] > 0:  # custom arcane echo\n",
    "                d += arcane_echo*n\n",
    "            t = 2.2\n",
    "        elif spell == 'NT':  # TODO: implement (low prio bc it's relatively straightforward)\n",
    "            raise NotImplementedError\n",
    "        elif spell == 'orb':\n",
    "            d = orb*(1+n_targets)  # TODO: implement scaling\n",
    "            state_dict['charges'] += 2 + n_targets\n",
    "            t = GCD\n",
    "        elif spell == 'RS':\n",
    "            d = rs_dmg\n",
    "            state_dict['RS'] = 1\n",
    "            t = 1.3\n",
    "        elif spell == 'rune':\n",
    "            t = 1.3\n",
    "            time_dict['rune'] = 15 + t\n",
    "        elif spell == 'touch':  # note that AOE damage was not considered here, but it's maximized when you maximize the rest\n",
    "            state_dict['charges'] = 4\n",
    "            t = 0\n",
    "            time_dict['touch'] = 10\n",
    "        else:\n",
    "            raise ValueError(f'no spell named {spell}')\n",
    "            \n",
    "        # calculate arcane echo\n",
    "        if time_dict['touch'] > 0 and spell in ['AB', 'AE', 'AS', 'barrage', 'orb', 'RS']:\n",
    "            d += arcane_echo\n",
    "            \n",
    "        # pass the time\n",
    "        for buff in time_dict.keys():\n",
    "            if buff == 'touch' and spell == 'barrage' and previous_spell=='touch':  # because we cast touch while barrage is in midair\n",
    "                state_dict['charges'] = 4\n",
    "                continue\n",
    "            time_dict[buff] = max(0, time_dict[buff]-t)\n",
    "        \n",
    "        # calculate buff percentage (after passing time)\n",
    "        buff_perc = 1\n",
    "        for buff in time_dict.keys():\n",
    "            if time_dict[buff] > 0:\n",
    "                buff_perc *= buff_dict[buff]\n",
    "        if state_dict['RS'] > 0:\n",
    "            rs_buff = 1 + (state_dict['RS']-1)/10*1.25  # radiant spark + harmonic echo\n",
    "            buff_perc *= rs_buff\n",
    "            if spell == 'orb':  # correction for RS only affecting primary target when spell is Arcane Orb\n",
    "                buff_perc *= (n_targets/rs_buff + 1)/(n_targets + 1)\n",
    "            \n",
    "        current_dmg += d*buff_perc\n",
    "        current_time += t\n",
    "\n",
    "        # ensure maximum values\n",
    "        state_dict['charges'] = min(4, state_dict['charges'])\n",
    "        state_dict['harmony'] = min(20, state_dict['harmony'])\n",
    "        \n",
    "        if verbose:\n",
    "            print(spell)\n",
    "            print('dmg', d)\n",
    "            print('buff', buff_perc)\n",
    "            print('buffs', {**time_dict, **state_dict})\n",
    "            \n",
    "        # advance radiant spark\n",
    "        if spell in ['AB', 'AE', 'AS', 'barrage', 'orb', 'RS', 'M']: # only update RS if the spell was an offensive spell\n",
    "            if state_dict['RS'] > 0 and spell != 'RS':\n",
    "                if state_dict['RS'] == 5:\n",
    "                    state_dict['RS'] = 0\n",
    "                else:\n",
    "                    state_dict['RS'] += 1\n",
    "        \n",
    "        previous_spell = spell\n",
    "\n",
    "    if verbose_lite:\n",
    "        print('total dmg', current_dmg)\n",
    "        print('total time', current_time)\n",
    "    return current_dmg/current_time"
   ]
  },
  {
   "cell_type": "markdown",
   "id": "infrared-madness",
   "metadata": {},
   "source": [
    "## Full bursts"
   ]
  },
  {
   "cell_type": "markdown",
   "id": "unlimited-happening",
   "metadata": {},
   "source": [
    "Multi-target rotations. Triple barrage, finally enabled by the instant-cast TotM, is the way to go here."
   ]
  },
  {
   "cell_type": "code",
   "execution_count": 91,
   "id": "german-anime",
   "metadata": {},
   "outputs": [
    {
     "name": "stdout",
     "output_type": "stream",
     "text": [
      "total dmg 975.7670719999999\n",
      "total time 13.400000000000002\n"
     ]
    },
    {
     "data": {
      "text/plain": [
       "72.8184382089552"
      ]
     },
     "execution_count": 91,
     "metadata": {},
     "output_type": "execute_result"
    }
   ],
   "source": [
    "n_targets=2\n",
    "run_rotation(\"rune,RS,AS,barrage,orb,touch,barrage,barrage,M,AB,AB\")"
   ]
  },
  {
   "cell_type": "code",
   "execution_count": 96,
   "id": "experimental-ordinance",
   "metadata": {},
   "outputs": [
    {
     "name": "stdout",
     "output_type": "stream",
     "text": [
      "total dmg 905.3043439999999\n",
      "total time 13.500000000000002\n"
     ]
    },
    {
     "data": {
      "text/plain": [
       "67.05958103703702"
      ]
     },
     "execution_count": 96,
     "metadata": {},
     "output_type": "execute_result"
    }
   ],
   "source": [
    "run_rotation(\"rune,RS,AB,AB,AB,AS,touch,barrage,M,AB\")  # ST rotation"
   ]
  },
  {
   "cell_type": "code",
   "execution_count": 92,
   "id": "broadband-bridges",
   "metadata": {},
   "outputs": [
    {
     "name": "stdout",
     "output_type": "stream",
     "text": [
      "total dmg 1035.141296\n",
      "total time 13.900000000000002\n"
     ]
    },
    {
     "data": {
      "text/plain": [
       "74.47059683453236"
      ]
     },
     "execution_count": 92,
     "metadata": {},
     "output_type": "execute_result"
    }
   ],
   "source": [
    "run_rotation(\"rune,RS,touch,AB,AS,barrage,orb,barrage,M,AB,AB\")"
   ]
  },
  {
   "cell_type": "code",
   "execution_count": 93,
   "id": "finished-postcard",
   "metadata": {},
   "outputs": [
    {
     "name": "stdout",
     "output_type": "stream",
     "text": [
      "total dmg 1036.428176\n",
      "total time 13.900000000000002\n"
     ]
    },
    {
     "data": {
      "text/plain": [
       "74.56317812949638"
      ]
     },
     "execution_count": 93,
     "metadata": {},
     "output_type": "execute_result"
    }
   ],
   "source": [
    "run_rotation(\"rune,RS,touch,AS,AB,barrage,orb,barrage,M,AB,AB\")"
   ]
  },
  {
   "cell_type": "markdown",
   "id": "linear-drinking",
   "metadata": {},
   "source": [
    "Crabcore's multi-target scenario from guide:"
   ]
  },
  {
   "cell_type": "code",
   "execution_count": 179,
   "id": "generic-logan",
   "metadata": {},
   "outputs": [
    {
     "name": "stdout",
     "output_type": "stream",
     "text": [
      "total dmg 803.273236\n",
      "total time 7.600000000000001\n"
     ]
    },
    {
     "data": {
      "text/plain": [
       "105.69384684210524"
      ]
     },
     "execution_count": 179,
     "metadata": {},
     "output_type": "execute_result"
    }
   ],
   "source": [
    "n_targets=2\n",
    "run_rotation(\"RS,orb,AS,touch,barrage,AB,barrage\")  # guide"
   ]
  },
  {
   "cell_type": "code",
   "execution_count": 178,
   "id": "another-maryland",
   "metadata": {},
   "outputs": [
    {
     "name": "stdout",
     "output_type": "stream",
     "text": [
      "total dmg 873.21292\n",
      "total time 7.100000000000001\n"
     ]
    },
    {
     "data": {
      "text/plain": [
       "122.98773521126759"
      ]
     },
     "execution_count": 178,
     "metadata": {},
     "output_type": "execute_result"
    }
   ],
   "source": [
    "run_rotation(\"RS,AS,touch,barrage,barrage,orb,barrage\")  # me"
   ]
  },
  {
   "cell_type": "code",
   "execution_count": 177,
   "id": "complimentary-pharmacy",
   "metadata": {
    "scrolled": true
   },
   "outputs": [
    {
     "name": "stdout",
     "output_type": "stream",
     "text": [
      "total dmg 1387.9141000000002\n",
      "total time 16.5\n"
     ]
    },
    {
     "data": {
      "text/plain": [
       "84.11600606060607"
      ]
     },
     "execution_count": 177,
     "metadata": {},
     "output_type": "execute_result"
    }
   ],
   "source": [
    "run_rotation(\"RS,AS,AB,AB,touch,barrage,barrage,orb,M,M,M,barrage\")  # better if you have the time"
   ]
  },
  {
   "cell_type": "markdown",
   "id": "qualified-malpractice",
   "metadata": {},
   "source": [
    "Single target rotations. As long as you use the touch-barrage tric, they're essentially the same."
   ]
  },
  {
   "cell_type": "code",
   "execution_count": 101,
   "id": "valuable-tiffany",
   "metadata": {},
   "outputs": [
    {
     "name": "stdout",
     "output_type": "stream",
     "text": [
      "total dmg 1122.2816159999998\n",
      "total time 34.89999999999999\n"
     ]
    },
    {
     "data": {
      "text/plain": [
       "32.15706636103152"
      ]
     },
     "execution_count": 101,
     "metadata": {},
     "output_type": "execute_result"
    }
   ],
   "source": [
    "n_targets=0\n",
    "clearcast=True\n",
    "run_rotation(\"rune,RS,AB,AB,AB,AS,touch,barrage,M,AB,AB,M,AB,AB,M,AB,AB,M,AB,AB,M,AB,AB\")  # recommended"
   ]
  },
  {
   "cell_type": "code",
   "execution_count": 114,
   "id": "equipped-karaoke",
   "metadata": {},
   "outputs": [
    {
     "name": "stdout",
     "output_type": "stream",
     "text": [
      "total dmg 1149.3678959999995\n",
      "total time 34.89999999999999\n"
     ]
    },
    {
     "data": {
      "text/plain": [
       "32.93317753581661"
      ]
     },
     "execution_count": 114,
     "metadata": {},
     "output_type": "execute_result"
    }
   ],
   "source": [
    "run_rotation(\"RS,AS,AB,AB,AB,touch,barrage,M,AB,AB,M,AB,AB,rune,M,AB,AB,M,AB,AB,M,AB,AB\")  # putting AS in front, rune in back"
   ]
  },
  {
   "cell_type": "code",
   "execution_count": 103,
   "id": "changing-banking",
   "metadata": {},
   "outputs": [
    {
     "name": "stdout",
     "output_type": "stream",
     "text": [
      "total dmg 951.3078840000001\n",
      "total time 33.999999999999986\n"
     ]
    },
    {
     "data": {
      "text/plain": [
       "27.979643647058836"
      ]
     },
     "execution_count": 103,
     "metadata": {},
     "output_type": "execute_result"
    }
   ],
   "source": [
    "run_rotation(\"RS,AS,AB,barrage,touch,barrage,barrage,M,AB,AB,M,AB,AB,M,AB,AB,M,AB,AB,M,AB,AB,AB\")  # borrowed from multi-target rotation"
   ]
  },
  {
   "cell_type": "code",
   "execution_count": 104,
   "id": "deluxe-intermediate",
   "metadata": {},
   "outputs": [
    {
     "name": "stdout",
     "output_type": "stream",
     "text": [
      "total dmg 957.2843200000001\n",
      "total time 33.59999999999999\n"
     ]
    },
    {
     "data": {
      "text/plain": [
       "28.490604761904777"
      ]
     },
     "execution_count": 104,
     "metadata": {},
     "output_type": "execute_result"
    }
   ],
   "source": [
    "run_rotation(\"RS,touch,AS,AB,AB,AB,barrage,M,AB,AB,M,AB,AB,M,AB,AB,M,AB,AB,M,AB,AB\")  # \"shortened\""
   ]
  },
  {
   "cell_type": "code",
   "execution_count": 106,
   "id": "introductory-showcase",
   "metadata": {},
   "outputs": [
    {
     "name": "stdout",
     "output_type": "stream",
     "text": [
      "total dmg 1035.8603199999998\n",
      "total time 34.89999999999999\n"
     ]
    },
    {
     "data": {
      "text/plain": [
       "29.68081146131805"
      ]
     },
     "execution_count": 106,
     "metadata": {},
     "output_type": "execute_result"
    }
   ],
   "source": [
    "run_rotation(\"RS,touch,AS,AB,AB,AB,barrage,M,AB,AB,M,AB,AB,rune,M,AB,AB,M,AB,AB,M,AB,AB\")  # \"shortened\" with a rune"
   ]
  },
  {
   "cell_type": "markdown",
   "id": "collective-analyst",
   "metadata": {},
   "source": [
    "## Mini bursts"
   ]
  },
  {
   "cell_type": "code",
   "execution_count": 169,
   "id": "fitted-remark",
   "metadata": {},
   "outputs": [
    {
     "name": "stdout",
     "output_type": "stream",
     "text": [
      "total dmg 629.1734119999999\n",
      "total time 15.400000000000004\n"
     ]
    },
    {
     "data": {
      "text/plain": [
       "40.855416363636344"
      ]
     },
     "execution_count": 169,
     "metadata": {},
     "output_type": "execute_result"
    }
   ],
   "source": [
    "n_targets=2\n",
    "run_rotation(\"rune,RS,AB,AB,AB,touch,barrage,barrage,orb,M,AB,AB,barrage\")  # triple barrage"
   ]
  },
  {
   "cell_type": "code",
   "execution_count": 163,
   "id": "generous-hughes",
   "metadata": {},
   "outputs": [
    {
     "name": "stdout",
     "output_type": "stream",
     "text": [
      "total dmg 526.91464\n",
      "total time 13.100000000000003\n"
     ]
    },
    {
     "data": {
      "text/plain": [
       "40.22249160305342"
      ]
     },
     "execution_count": 163,
     "metadata": {},
     "output_type": "execute_result"
    }
   ],
   "source": [
    "run_rotation(\"rune,RS,touch,AB,AB,barrage,orb,M,AB,AB,barrage\")  # touch in front"
   ]
  },
  {
   "cell_type": "code",
   "execution_count": 164,
   "id": "christian-development",
   "metadata": {
    "scrolled": true
   },
   "outputs": [
    {
     "name": "stdout",
     "output_type": "stream",
     "text": [
      "total dmg 595.564312\n",
      "total time 15.900000000000004\n"
     ]
    },
    {
     "data": {
      "text/plain": [
       "37.45687496855345"
      ]
     },
     "execution_count": 164,
     "metadata": {},
     "output_type": "execute_result"
    }
   ],
   "source": [
    "run_rotation(\"rune,RS,AB,AB,AB,AB,touch,barrage,orb,M,AB,AB,barrage\")  # standard"
   ]
  },
  {
   "cell_type": "markdown",
   "id": "durable-inquiry",
   "metadata": {},
   "source": [
    "## Misc"
   ]
  },
  {
   "cell_type": "markdown",
   "id": "global-johnston",
   "metadata": {},
   "source": [
    "A few lingering questions:"
   ]
  },
  {
   "cell_type": "code",
   "execution_count": 32,
   "id": "smaller-hampton",
   "metadata": {},
   "outputs": [
    {
     "data": {
      "text/plain": [
       "1.2682349848863192"
      ]
     },
     "execution_count": 32,
     "metadata": {},
     "output_type": "execute_result"
    }
   ],
   "source": [
    "clearcast=False\n",
    "run_rotation(\"AB,AB,AB\")/run_rotation(\"M,AB,AB\")"
   ]
  },
  {
   "cell_type": "code",
   "execution_count": 33,
   "id": "cathedral-bracelet",
   "metadata": {},
   "outputs": [
    {
     "data": {
      "text/plain": [
       "0.9637663790348359"
      ]
     },
     "execution_count": 33,
     "metadata": {},
     "output_type": "execute_result"
    }
   ],
   "source": [
    "clearcast=True\n",
    "run_rotation(\"AB,AB,AB\")/run_rotation(\"M,AB,AB\")"
   ]
  },
  {
   "cell_type": "code",
   "execution_count": 34,
   "id": "honey-backup",
   "metadata": {},
   "outputs": [
    {
     "data": {
      "text/plain": [
       "0.8914926133469179"
      ]
     },
     "execution_count": 34,
     "metadata": {},
     "output_type": "execute_result"
    }
   ],
   "source": [
    "clearcast=True\n",
    "run_rotation(\"touch,M,M,M\")/run_rotation(\"touch,M,AB,AB\")"
   ]
  },
  {
   "cell_type": "markdown",
   "id": "selective-processing",
   "metadata": {},
   "source": [
    "Conclusion: clearcast missiles into 2x AB is best, even with missiles proccing arcane echo."
   ]
  }
 ],
 "metadata": {
  "kernelspec": {
   "display_name": "Python 3",
   "language": "python",
   "name": "python3"
  },
  "language_info": {
   "codemirror_mode": {
    "name": "ipython",
    "version": 3
   },
   "file_extension": ".py",
   "mimetype": "text/x-python",
   "name": "python",
   "nbconvert_exporter": "python",
   "pygments_lexer": "ipython3",
   "version": "3.7.10"
  }
 },
 "nbformat": 4,
 "nbformat_minor": 5
}
